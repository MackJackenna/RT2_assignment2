{
 "cells": [
  {
   "cell_type": "code",
   "execution_count": 19,
   "id": "1c60f926",
   "metadata": {
    "ExecuteTime": {
     "end_time": "2023-06-02T19:56:50.584326Z",
     "start_time": "2023-06-02T19:56:50.533179Z"
    }
   },
   "outputs": [],
   "source": [
    "import rospy\n",
    "import time\n",
    "import math\n",
    "import jupyros as jr\n",
    "import numpy as np\n",
    "import assignment_2_2022.msg\n",
    "from assignment_2_2022.msg import PlanningAction\n",
    "import assignment_2_2022.srv\n",
    "from assignment_2_2022.srv import _node_B_goal\n",
    "import actionlib\n",
    "import actionlib.msg\n",
    "import matplotlib.pyplot as plt\n",
    "import tf\n",
    "import ipywidgets as widgets\n",
    "\n",
    "from geometry_msgs.msg import Pose, Point\n",
    "from IPython.display import display\n",
    "from sensor_msgs.msg import LaserScan\n",
    "from matplotlib.animation import FuncAnimation\n",
    "from nav_msgs.msg import Odometry\n",
    "from tf.transformations import quaternion_matrix\n",
    "from std_srvs.srv import *\n",
    "\n",
    "%matplotlib widget"
   ]
  },
  {
   "cell_type": "code",
   "execution_count": 20,
   "id": "058642ee",
   "metadata": {
    "ExecuteTime": {
     "end_time": "2023-06-02T19:56:52.523334Z",
     "start_time": "2023-06-02T19:56:51.828763Z"
    }
   },
   "outputs": [],
   "source": [
    "global client, status\n",
    "\n",
    "rospy.init_node('user_interface')\n",
    "# Initialises the node\n",
    "\n",
    "client = actionlib.SimpleActionClient('/reaching_goal', assignment_2_2022.msg.PlanningAction)\n",
    "# Access the /reaching_goal rostopic\n",
    "\n",
    "client.wait_for_server()\n",
    "#Allows the action server to startup before continuing\n",
    "\n",
    "status = client.get_state()\n",
    "# Gets the current state of the client\n",
    "\n",
    "goal_x = widgets.IntText(description='x-Coord', disabled=False)\n",
    "goal_y = widgets.IntText(description='y-Coord', disabled=False)\n",
    "# Coordinate inputs for the desired goal\n",
    "\n",
    "reaching_goal = widgets.Button(description=\"Confirm\")\n",
    "confirmed = widgets.Output()\n",
    "# Button widget that confirms an inputed goal\n",
    "\n",
    "canceled_goal = widgets.Button(description=\"Cancel\")\n",
    "cancelled = widgets.Output()\n",
    "# Button widget that cancels a currently active goal\n",
    "\n",
    "layout = widgets.VBox([goal_x, goal_y])\n",
    "button_layout = widgets.HBox([reaching_goal, canceled_goal])\n",
    "# VBox and HBox widget layout for the Coord inputs and buttons"
   ]
  },
  {
   "cell_type": "code",
   "execution_count": 21,
   "id": "e694ebd9",
   "metadata": {
    "ExecuteTime": {
     "end_time": "2023-06-02T19:56:54.107602Z",
     "start_time": "2023-06-02T19:56:53.902793Z"
    }
   },
   "outputs": [
    {
     "name": "stdout",
     "output_type": "stream",
     "text": [
      "Please enter integer X, Y coordinate values:\n"
     ]
    },
    {
     "data": {
      "application/vnd.jupyter.widget-view+json": {
       "model_id": "e7c88cda3df84791972a29036b880da1",
       "version_major": 2,
       "version_minor": 0
      },
      "text/plain": [
       "VBox(children=(IntText(value=0, description='x-Coord'), IntText(value=0, description='y-Coord')))"
      ]
     },
     "metadata": {},
     "output_type": "display_data"
    },
    {
     "data": {
      "application/vnd.jupyter.widget-view+json": {
       "model_id": "c4692b3b1f704fc3b4533dc136c3ed65",
       "version_major": 2,
       "version_minor": 0
      },
      "text/plain": [
       "HBox(children=(Button(description='Confirm', style=ButtonStyle()), Button(description='Cancel', style=ButtonSt…"
      ]
     },
     "metadata": {},
     "output_type": "display_data"
    },
    {
     "data": {
      "application/vnd.jupyter.widget-view+json": {
       "model_id": "7b868eb21b564c4e9ddfb169b311cc7e",
       "version_major": 2,
       "version_minor": 0
      },
      "text/plain": [
       "Output()"
      ]
     },
     "metadata": {},
     "output_type": "display_data"
    },
    {
     "data": {
      "application/vnd.jupyter.widget-view+json": {
       "model_id": "c6e120a264004888a46912cfd78b9118",
       "version_major": 2,
       "version_minor": 0
      },
      "text/plain": [
       "Output()"
      ]
     },
     "metadata": {},
     "output_type": "display_data"
    },
    {
     "name": "stdout",
     "output_type": "stream",
     "text": [
      "Once you have input your first coordinates, run all below cells...\n"
     ]
    }
   ],
   "source": [
    "global client, status\n",
    "\n",
    "def send_goal():\n",
    "    goal = assignment_2_2022.msg.PlanningGoal()\n",
    "    status=client.get_state()\n",
    "    if not (status==actionlib.GoalStatus.ACTIVE):\n",
    "        goal.target_pose.pose.position.x = x_goal\n",
    "        goal.target_pose.pose.position.y = y_goal\n",
    "        client.send_goal(goal)\n",
    "        print(\"Goal has reached the server!\")\n",
    "    else:\n",
    "        print(\"You have a currently active goal!\")\n",
    "# Send the goal to the robot\n",
    "\n",
    "def cancel_goal():\n",
    "    status = client.get_state()\n",
    "    if status == actionlib.GoalStatus.ACTIVE:\n",
    "        client.cancel_goal()\n",
    "        print(\"Cancelled!\")\n",
    "    else:\n",
    "        print(\"Please input a goal!\")\n",
    "# Cancels a currently active goal\n",
    "\n",
    "def confirm_button(reaching_goal):\n",
    "    global x_goal, y_goal\n",
    "    x_goal = int(goal_x.value)\n",
    "    y_goal = int(goal_y.value)\n",
    "    with confirmed:\n",
    "        send_goal()\n",
    "reaching_goal.on_click(confirm_button)\n",
    "# Definition for a click of the confirmed button\n",
    "\n",
    "def cancel_button(canceled_goal):\n",
    "    with cancelled:\n",
    "        cancel_goal()\n",
    "canceled_goal.on_click(cancel_button)\n",
    "# Definition for a click of the cancelled button\n",
    "\n",
    "print(\"Please enter integer X, Y coordinate values:\")\n",
    "display(layout, button_layout, confirmed, cancelled)\n",
    "print(\"Once you have input your first coordinates, run all below cells...\")\n",
    "# Displays the Coord inputs and Confirm/Cancel Buttons"
   ]
  },
  {
   "cell_type": "code",
   "execution_count": 22,
   "id": "3866b894",
   "metadata": {
    "ExecuteTime": {
     "end_time": "2023-06-02T19:57:02.422069Z",
     "start_time": "2023-06-02T19:57:02.234125Z"
    }
   },
   "outputs": [],
   "source": [
    "global x_goal, y_goal, client, status\n",
    "\n",
    "class Visualiser:\n",
    "    def __init__(self):\n",
    "\n",
    "        self.fig, (self.ax, self.ax2) = plt.subplots(1,2, figsize=(8,4))\n",
    "        # Creates a subplot each for the robot Trajectory and status of goals\n",
    "        \n",
    "        self.ln, = self.ax.plot([], [], 'mo', markersize='3', label='Trajectory')\n",
    "        self.ax.plot(x_goal, y_goal, marker='x', color='orange', markersize='8', label='Current goal')\n",
    "        self.ax.plot(x_goal, y_goal, marker='x', color='green', markersize='8', label='Reached goals')\n",
    "        self.ax.plot(x_goal, y_goal, marker='x', color='red', markersize='8', label='Cancelled goals')\n",
    "        # Provides distinct labels for each status as well as a graphing line for the trajectory\n",
    "        \n",
    "        self.x_data, self.y_data = [] , []\n",
    "    \n",
    "        self.reached = 0\n",
    "        self.cancelled = 0\n",
    "        self.reached_check=False\n",
    "        self.cancelled_check=False\n",
    "        # Initialises checks for the goal status\n",
    "    \n",
    "    def plot_init(self):\n",
    "        self.ax.set_xlim(-15, 15)\n",
    "        self.ax.set_ylim(-15, 15)\n",
    "        self.ax2.set_ylim(0, 10)\n",
    "        return self.ln\n",
    "    # Definition that sets axis limits for the graphs\n",
    "    \n",
    "    def odom_callback(self, msg):\n",
    "        self.y_data.append(msg.pose.pose.position.y)\n",
    "        self.x_data.append(msg.pose.pose.position.x)\n",
    "        current_px_widget.value=round(msg.pose.pose.position.x, 3)\n",
    "        current_py_widget.value=round(msg.pose.pose.position.y, 3)\n",
    "    # Definition for standard callback to find the position of the robot\n",
    "    \n",
    "    def update_plot(self, frame):\n",
    "    # Definition for updating the plots\n",
    "        self.ln.set_data(self.x_data, self.y_data)\n",
    "\n",
    "        status=client.get_state()\n",
    "        \n",
    "        if status==3 and not(self.reached_check):\n",
    "            self.ax.plot(x_goal, y_goal, marker='x', color='green', markersize='8', label='Reached')\n",
    "            self.reached += 1\n",
    "            self.ax2.bar(['reached', 'cancelled'], [self.reached, self.cancelled], color = 'b')\n",
    "            self.reached_check=True\n",
    "        # Check to see if goal has been reached\n",
    "        \n",
    "        elif (not(status==3) and self.reached_check):\n",
    "            self.reached_check=False \n",
    "            \n",
    "        elif status==2 and not(self.cancelled_check):\n",
    "            self.ax.plot(x_goal, y_goal, marker='x', color='red', markersize='8', label='Cancelled')\n",
    "            self.cancelled += 1\n",
    "            self.ax2.bar(['reached', 'cancelled'], [self.reached, self.cancelled], color = 'b')\n",
    "            self.cancelled_check=True\n",
    "        # Check to see if the goal has been cancelled\n",
    "            \n",
    "        elif (not(status==2) and self.cancelled_check):\n",
    "            self.cancelled_check=False\n",
    "            \n",
    "        elif (not(status==3) and not(status==2)):\n",
    "            self.ax.plot(x_goal, y_goal, marker='x', color='orange', markersize='8', label='Current')\n",
    "        # Maintains the current marker until one of the above conditions are met\n",
    "        \n",
    "        self.ax2.bar(['reached', 'cancelled'], [self.reached, self.cancelled], color = 'c')\n",
    "        # Shows the second graph\n",
    "        return self.ln"
   ]
  },
  {
   "cell_type": "code",
   "execution_count": 23,
   "id": "eab96bb5",
   "metadata": {
    "ExecuteTime": {
     "end_time": "2023-06-02T19:57:04.856475Z",
     "start_time": "2023-06-02T19:57:04.014817Z"
    }
   },
   "outputs": [],
   "source": [
    "current_px_widget=widgets.FloatText(description='Robot x-pos:', disabled=True)\n",
    "# Widget that shows the current x coord of the robot\n",
    "\n",
    "current_py_widget=widgets.FloatText(description='Robot y-pos:', disabled=True)\n",
    "# Widget that shows the current y coord of the robot\n",
    "\n",
    "min_dist_widget =widgets.FloatText( description='Closest obj:', disabled=True)\n",
    "output_dist=widgets.Output()\n",
    "# Widget to display the distance to the closest ibstacle picked up by the scanner"
   ]
  },
  {
   "cell_type": "code",
   "execution_count": 24,
   "id": "68890456",
   "metadata": {
    "ExecuteTime": {
     "end_time": "2023-06-02T19:57:08.970336Z",
     "start_time": "2023-06-02T19:57:05.676142Z"
    },
    "scrolled": true
   },
   "outputs": [
    {
     "data": {
      "application/vnd.jupyter.widget-view+json": {
       "model_id": "b44678d7e497441fbc55d6649a826eab",
       "version_major": 2,
       "version_minor": 0
      },
      "text/plain": [
       "Canvas(toolbar=Toolbar(toolitems=[('Home', 'Reset original view', 'home', 'home'), ('Back', 'Back to previous …"
      ]
     },
     "metadata": {},
     "output_type": "display_data"
    },
    {
     "data": {
      "application/vnd.jupyter.widget-view+json": {
       "model_id": "d251fbb7432d44e08305616c661cbe47",
       "version_major": 2,
       "version_minor": 0
      },
      "text/plain": [
       "HBox(children=(FloatText(value=0.049, description='Robot x-pos:', disabled=True), FloatText(value=0.962, descr…"
      ]
     },
     "metadata": {},
     "output_type": "display_data"
    },
    {
     "data": {
      "application/vnd.jupyter.widget-view+json": {
       "model_id": "070575b9fc7549c9b0d7fcc2e6d00508",
       "version_major": 2,
       "version_minor": 0
      },
      "text/plain": [
       "Output()"
      ]
     },
     "metadata": {},
     "output_type": "display_data"
    }
   ],
   "source": [
    "vis = Visualiser()\n",
    "# Call visualiser class\n",
    "\n",
    "vis.ax.set_title('Plot of robot trajectory')\n",
    "vis.ax.set_xlabel('Position on x')\n",
    "vis.ax.set_ylabel('Position on y')\n",
    "vis.ax.legend()\n",
    "plt.tight_layout()\n",
    "vis.ax.grid()\n",
    "# Trajectory graph\n",
    "\n",
    "vis.ax2.set_title('Reached and cancelled goals')\n",
    "vis.ax2.set_ylabel('Number of goals')\n",
    "# Goal graph\n",
    "\n",
    "sub = rospy.Subscriber('/odom', Odometry, vis.odom_callback)\n",
    "time.sleep(0.2)\n",
    "ani = FuncAnimation(vis.fig, vis.update_plot, init_func=vis.plot_init)\n",
    "# Standard callback that updates the graphs\n",
    "\n",
    "widg = widgets.HBox([current_px_widget, current_py_widget, min_dist_widget])\n",
    "display(widg, output_dist)\n",
    "# Displays the robots current x and y position as well as distance from the closest object, similar to Node C\n",
    "\n",
    "plt.show(block=True)"
   ]
  },
  {
   "cell_type": "code",
   "execution_count": 25,
   "id": "fa32ba61",
   "metadata": {
    "ExecuteTime": {
     "end_time": "2023-06-02T19:57:13.131915Z",
     "start_time": "2023-06-02T19:57:12.071923Z"
    }
   },
   "outputs": [
    {
     "name": "stderr",
     "output_type": "stream",
     "text": [
      "Removing previous callback, only one redirection possible right now\n"
     ]
    }
   ],
   "source": [
    "global min_range\n",
    "\n",
    "def scan_callback(scan):\n",
    "    min_range = scan.range_max\n",
    "    \n",
    "    for range_val in scan.ranges:\n",
    "        if range_val < min_range:\n",
    "            min_range = range_val\n",
    "            \n",
    "    min_dist_widget.value = round(min_range, 3)\n",
    "\n",
    "jr.subscribe('/scan', LaserScan, scan_callback)\n",
    "time.sleep(0.3)\n",
    "# Communicates with the scanner for the distance to object widget"
   ]
  },
  {
   "cell_type": "code",
   "execution_count": null,
   "id": "9db78e18",
   "metadata": {},
   "outputs": [],
   "source": []
  }
 ],
 "metadata": {
  "hide_input": false,
  "kernelspec": {
   "display_name": "Python 3 (ipykernel)",
   "language": "python",
   "name": "python3"
  },
  "language_info": {
   "codemirror_mode": {
    "name": "ipython",
    "version": 3
   },
   "file_extension": ".py",
   "mimetype": "text/x-python",
   "name": "python",
   "nbconvert_exporter": "python",
   "pygments_lexer": "ipython3",
   "version": "3.8.5"
  },
  "toc": {
   "base_numbering": 1,
   "nav_menu": {},
   "number_sections": true,
   "sideBar": true,
   "skip_h1_title": false,
   "title_cell": "Table of Contents",
   "title_sidebar": "Contents",
   "toc_cell": false,
   "toc_position": {},
   "toc_section_display": true,
   "toc_window_display": false
  },
  "varInspector": {
   "cols": {
    "lenName": 16,
    "lenType": 16,
    "lenVar": 40
   },
   "kernels_config": {
    "python": {
     "delete_cmd_postfix": "",
     "delete_cmd_prefix": "del ",
     "library": "var_list.py",
     "varRefreshCmd": "print(var_dic_list())"
    },
    "r": {
     "delete_cmd_postfix": ") ",
     "delete_cmd_prefix": "rm(",
     "library": "var_list.r",
     "varRefreshCmd": "cat(var_dic_list()) "
    }
   },
   "types_to_exclude": [
    "module",
    "function",
    "builtin_function_or_method",
    "instance",
    "_Feature"
   ],
   "window_display": false
  }
 },
 "nbformat": 4,
 "nbformat_minor": 5
}
